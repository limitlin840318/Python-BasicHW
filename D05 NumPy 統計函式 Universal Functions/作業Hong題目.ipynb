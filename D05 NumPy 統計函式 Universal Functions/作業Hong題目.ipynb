{
 "cells": [
  {
   "cell_type": "markdown",
   "metadata": {
    "id": "oef8c2jr-PZY"
   },
   "source": [
    "作業目標<br>\n",
    "計算有缺失值的資料，統計量實作<br>\n",
    "作業重點<br>\n",
    "當遇到缺失值有函式可以處理，不須額外寫程式刪除<br>\n",
    "計算統計量時不能出現缺失值"
   ]
  },
  {
   "cell_type": "markdown",
   "metadata": {
    "id": "4YgL8NF4-Ru3"
   },
   "source": [
    "題目:<br>\n",
    "english_score = np.array([55,89,76,65,48,70])<br>\n",
    "math_score = np.array([60,85,60,68,np.nan,60])<br>\n",
    "chinese_score = np.array([65,90,82,72,66,77])<br>\n",
    "上3列共六位同學的英文、數學、國文成績，第一個元素代表第一位同學，舉例第一位同學英文55分、數學60分、國文65分，今天第五位同學因某原因沒來考試，導致數學成績缺值，運用上列數據回答下列問題。<br>\n",
    "1. 請計算各科成績平均、最大值、最小值、標準差，其中數學缺一筆資料可忽略?\n",
    "2. 第五位同學補考數學後成績為55，請計算補考後數學成績平均、最大值、最小值、標準差?\n",
    "3. 用補考後資料找出與國文成績相關係數最高的學科?"
   ]
  },
  {
   "cell_type": "code",
   "execution_count": 1,
   "metadata": {
    "executionInfo": {
     "elapsed": 617,
     "status": "ok",
     "timestamp": 1609854566856,
     "user": {
      "displayName": "献竤黃",
      "photoUrl": "",
      "userId": "07529243043474362942"
     },
     "user_tz": -480
    },
    "id": "QwsKU8qO-RK7"
   },
   "outputs": [],
   "source": [
    "import numpy as np"
   ]
  },
  {
   "cell_type": "code",
   "execution_count": 2,
   "metadata": {
    "executionInfo": {
     "elapsed": 1016,
     "status": "ok",
     "timestamp": 1609854567261,
     "user": {
      "displayName": "献竤黃",
      "photoUrl": "",
      "userId": "07529243043474362942"
     },
     "user_tz": -480
    },
    "id": "B5BqDQAe_czh"
   },
   "outputs": [],
   "source": [
    "english_score = np.array([55,89,76,65,48,70])\n",
    "math_score = np.array([60,85,60,68,np.nan,60])\n",
    "chinese_score = np.array([65,90,82,72,66,77])"
   ]
  },
  {
   "cell_type": "code",
   "execution_count": 25,
   "metadata": {
    "executionInfo": {
     "elapsed": 1005,
     "status": "ok",
     "timestamp": 1609854567262,
     "user": {
      "displayName": "献竤黃",
      "photoUrl": "",
      "userId": "07529243043474362942"
     },
     "user_tz": -480
    },
    "id": "K3tUA6u9aI3N"
   },
   "outputs": [
    {
     "name": "stdout",
     "output_type": "stream",
     "text": [
      "--英文成績--\n",
      "平均值：: 67.16666666666667\n",
      "最大值：: 89\n",
      "最小值：: 48\n",
      "標準差值：: 13.433995020924426\n",
      "--數學成績--\n",
      "平均值：: 66.6\n",
      "最大值：: 85.0\n",
      "最小值：: 60.0\n",
      "標準差值：: 9.707728879609279\n",
      "--中文成績--\n",
      "平均值：: 75.33333333333333\n",
      "最大值：: 90\n",
      "最小值：: 65\n",
      "標準差值：: 8.825468196582484\n"
     ]
    }
   ],
   "source": [
    "#1. 請計算各科成績平均、最大值、最小值、標準差，其中數學缺一筆資料可忽略?\n",
    "print(\"--英文成績--\")\n",
    "english_mean = np.nanmean(english_score)\n",
    "english_max = np.nanmax(english_score)\n",
    "english_min = np.nanmin(english_score)\n",
    "english_std = np.nanstd(english_score)\n",
    "print(\"平均值：:\",english_mean)\n",
    "print(\"最大值：:\",english_max)\n",
    "print(\"最小值：:\",english_min)\n",
    "print(\"標準差值：:\",english_std)\n",
    "print(\"--數學成績--\")\n",
    "math_mean = np.nanmean(math_score)\n",
    "math_max = np.nanmax(math_score)\n",
    "math_min = np.nanmin(math_score)\n",
    "math_std = np.nanstd(math_score)\n",
    "print(\"平均值：:\",math_mean)\n",
    "print(\"最大值：:\",math_max)\n",
    "print(\"最小值：:\",math_min)\n",
    "print(\"標準差值：:\",math_std)\n",
    "print(\"--中文成績--\")\n",
    "chinese_mean = np.nanmean(chinese_score)\n",
    "chinese_max = np.nanmax(chinese_score)\n",
    "chinese_min = np.nanmin(chinese_score)\n",
    "chinese_std = np.nanstd(chinese_score)\n",
    "print(\"平均值：:\",chinese_mean)\n",
    "print(\"最大值：:\",chinese_max)\n",
    "print(\"最小值：:\",chinese_min)\n",
    "print(\"標準差值：:\",chinese_std)"
   ]
  },
  {
   "cell_type": "code",
   "execution_count": 43,
   "metadata": {},
   "outputs": [
    {
     "name": "stdout",
     "output_type": "stream",
     "text": [
      "[平均]\t英文67.16666666666667, 數學:64.66666666666667, 國文:75.33333333333333\n",
      "[最大值]\t英文89, 數學:85.0, 國文:90\n",
      "[最小值]\t英文48, 數學:55.0, 國文:65\n",
      "[標準差]\t英文13.433995020924426, 數學:9.860132971832694, 國文:8.825468196582484\n"
     ]
    }
   ],
   "source": [
    "print('[平均]\\t英文{0}, 數學:{1}, 國文:{2}'.format(np.nanmean(english_score), np.nanmean(math_score), np.nanmean(chinese_score)))\n",
    "print('[最大值]\\t英文{0}, 數學:{1}, 國文:{2}'.format(np.nanmax(english_score), np.nanmax(math_score), np.nanmax(chinese_score)))\n",
    "print('[最小值]\\t英文{0}, 數學:{1}, 國文:{2}'.format(np.nanmin(english_score), np.nanmin(math_score), np.nanmin(chinese_score)))\n",
    "print('[標準差]\\t英文{0}, 數學:{1}, 國文:{2}'.format(np.nanstd(english_score), np.nanstd(math_score), np.nanstd(chinese_score)))"
   ]
  },
  {
   "cell_type": "code",
   "execution_count": 28,
   "metadata": {
    "executionInfo": {
     "elapsed": 996,
     "status": "ok",
     "timestamp": 1609854567262,
     "user": {
      "displayName": "献竤黃",
      "photoUrl": "",
      "userId": "07529243043474362942"
     },
     "user_tz": -480
    },
    "id": "mXjDzvSrbLlf"
   },
   "outputs": [],
   "source": [
    "#2. 第五位同學補考數學後成績為55，請計算補考後數學成績平均、最大值、最小值、標準差?"
   ]
  },
  {
   "cell_type": "code",
   "execution_count": 31,
   "metadata": {},
   "outputs": [
    {
     "name": "stdout",
     "output_type": "stream",
     "text": [
      "--數學成績--\n",
      "平均值：: 64.66666666666667\n",
      "最大值：: 85.0\n",
      "最小值：: 55.0\n",
      "標準差值：: 9.860132971832694\n"
     ]
    }
   ],
   "source": [
    "math_score[4] = 55\n",
    "print(\"--數學成績--\")\n",
    "math_mean = np.nanmean(math_score)\n",
    "math_max = np.nanmax(math_score)\n",
    "math_min = np.nanmin(math_score)\n",
    "math_std = np.nanstd(math_score)\n",
    "print(\"平均值：:\",math_mean)\n",
    "print(\"最大值：:\",math_max)\n",
    "print(\"最小值：:\",math_min)\n",
    "print(\"標準差值：:\",math_std)"
   ]
  },
  {
   "cell_type": "code",
   "execution_count": 5,
   "metadata": {
    "executionInfo": {
     "elapsed": 989,
     "status": "ok",
     "timestamp": 1609854567264,
     "user": {
      "displayName": "献竤黃",
      "photoUrl": "",
      "userId": "07529243043474362942"
     },
     "user_tz": -480
    },
    "id": "SaGolKx0cKoU"
   },
   "outputs": [],
   "source": [
    "#3. 用補考後資料找出與國文成績相關係數最高的學科?"
   ]
  },
  {
   "cell_type": "code",
   "execution_count": 33,
   "metadata": {
    "executionInfo": {
     "elapsed": 987,
     "status": "ok",
     "timestamp": 1609854567264,
     "user": {
      "displayName": "献竤黃",
      "photoUrl": "",
      "userId": "07529243043474362942"
     },
     "user_tz": -480
    },
    "id": "fTNlLZ9Pzyiy"
   },
   "outputs": [
    {
     "data": {
      "text/plain": [
       "array([[1.        , 0.97792828],\n",
       "       [0.97792828, 1.        ]])"
      ]
     },
     "execution_count": 33,
     "metadata": {},
     "output_type": "execute_result"
    }
   ],
   "source": [
    "np.corrcoef([english_score, chinese_score])"
   ]
  },
  {
   "cell_type": "code",
   "execution_count": 34,
   "metadata": {},
   "outputs": [
    {
     "data": {
      "text/plain": [
       "array([[1.        , 0.74056803],\n",
       "       [0.74056803, 1.        ]])"
      ]
     },
     "execution_count": 34,
     "metadata": {},
     "output_type": "execute_result"
    }
   ],
   "source": [
    "np.corrcoef([math_score, chinese_score])"
   ]
  },
  {
   "cell_type": "code",
   "execution_count": 35,
   "metadata": {},
   "outputs": [
    {
     "data": {
      "text/plain": [
       "array([[1.        , 0.7855563 , 0.97792828],\n",
       "       [0.7855563 , 1.        , 0.74056803],\n",
       "       [0.97792828, 0.74056803, 1.        ]])"
      ]
     },
     "execution_count": 35,
     "metadata": {},
     "output_type": "execute_result"
    }
   ],
   "source": [
    "np.corrcoef([english_score,math_score, chinese_score])"
   ]
  }
 ],
 "metadata": {
  "colab": {
   "authorship_tag": "ABX9TyPtywwDR7TsGGEOMGYLDT5h",
   "collapsed_sections": [],
   "name": "作業Hong題目.ipynb",
   "provenance": []
  },
  "kernelspec": {
   "display_name": "Python 3",
   "language": "python",
   "name": "python3"
  },
  "language_info": {
   "codemirror_mode": {
    "name": "ipython",
    "version": 3
   },
   "file_extension": ".py",
   "mimetype": "text/x-python",
   "name": "python",
   "nbconvert_exporter": "python",
   "pygments_lexer": "ipython3",
   "version": "3.8.3"
  }
 },
 "nbformat": 4,
 "nbformat_minor": 1
}
